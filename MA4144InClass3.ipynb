{
 "cells": [
  {
   "cell_type": "markdown",
   "id": "dda0e25f-476a-43c0-b3e7-f96a707be566",
   "metadata": {
    "deletable": false,
    "editable": false,
    "id": "dda0e25f-476a-43c0-b3e7-f96a707be566"
   },
   "source": [
    "# <center>Recurrent Neural Networks</center>\n",
    "## <center>Inclass Project 3 - MA4144</center>\n",
    "\n",
    "This project contains 10 tasks/questions to be completed, some require written answers. Open a markdown cell below the respective question that require written answers and provide (type) your answers. Questions that required written answers are given in blue fonts. Almost all written questions are open ended, they do not have a correct or wrong answer. You are free to give your opinions, but please provide related answers within the context.\n",
    "\n",
    "After finishing project run the entire notebook once and **save the notebook as a pdf** (File menu -> Save and Export Notebook As -> PDF). You are **required to upload this PDF on moodle**.\n",
    "\n",
    "***"
   ]
  },
  {
   "cell_type": "markdown",
   "id": "03930b71-f7aa-4eb8-a078-70fc89a1ac16",
   "metadata": {
    "deletable": false,
    "editable": false,
    "id": "03930b71-f7aa-4eb8-a078-70fc89a1ac16"
   },
   "source": [
    "## Outline of the project\n",
    "\n",
    "The aim of the project is to build a RNN model to suggest autocompletion of half typed words. You may have seen this in many day today applications; typing an email, a text message etc. For example, suppose you type in the four letter \"univ\", the application may suggest you to autocomplete it by \"university\".\n",
    "\n",
    "![Autocomplete](https://d33v4339jhl8k0.cloudfront.net/docs/assets/5c12e83004286304a71d5b72/images/66d0cb106eb51e63b8f9fbc6/file-gBQe016VYt.gif)\n",
    "\n",
    "We will train a RNN to suggest possible autocompletes given $3$ - $4$ starting letters. That is if we input a string \"univ\" hopefully we expect to see an output like \"university\", \"universal\" etc.\n",
    "\n",
    "For this we will use a text file (wordlist.txt) containing 10,000 common English words (you'll find the file on the moodle link). The list of words will be the \"**vocabulary**\" for our model.\n",
    "\n",
    "We will use the Python **torch library** to implement our autocomplete model.\n",
    "\n",
    "***\n"
   ]
  },
  {
   "cell_type": "markdown",
   "id": "f4db6bc0-f7e0-473d-a172-e6579deea2ee",
   "metadata": {
    "deletable": false,
    "editable": false,
    "id": "f4db6bc0-f7e0-473d-a172-e6579deea2ee"
   },
   "source": [
    "Use the below cell to use any include any imports"
   ]
  },
  {
   "cell_type": "code",
   "execution_count": 17,
   "id": "76fdc286-3211-4a8f-9802-29d28a324bea",
   "metadata": {
    "id": "76fdc286-3211-4a8f-9802-29d28a324bea"
   },
   "outputs": [],
   "source": [
    "import torch\n",
    "import torch.nn as nn\n",
    "import torch.optim as optim\n",
    "import numpy as np\n",
    "import matplotlib.pyplot as plt\n",
    "import random"
   ]
  },
  {
   "cell_type": "markdown",
   "id": "8622b61b-dba8-47bb-8e07-92b77e78f4fa",
   "metadata": {
    "deletable": false,
    "editable": false,
    "id": "8622b61b-dba8-47bb-8e07-92b77e78f4fa"
   },
   "source": [
    "## Section 1: Preparing the vocabulary"
   ]
  },
  {
   "cell_type": "code",
   "execution_count": 18,
   "id": "555a82e5-e56c-4075-a2a2-071633cd4d4c",
   "metadata": {
    "id": "555a82e5-e56c-4075-a2a2-071633cd4d4c"
   },
   "outputs": [],
   "source": [
    "WORD_SIZE = 13"
   ]
  },
  {
   "cell_type": "markdown",
   "id": "ef4f44ef-91d0-4d0e-afb5-a66240c9e1d4",
   "metadata": {
    "deletable": false,
    "editable": false,
    "id": "ef4f44ef-91d0-4d0e-afb5-a66240c9e1d4"
   },
   "source": [
    "**Q1.** In the following cell provide code to load the text file (each word is in a newline), then extract the words (in lowercase) into a list.\n",
    "\n",
    "For practical reasons of training the model we will only use words that are longer that $3$ letters and that have a maximum length of WORD_SIZE (this will be a constant we set at the beginning - you can change this and experiment with different WORD_SIZEs). As seen above it is set to $13$.\n",
    "\n",
    "So out of the extracted list of words filter out those words that match our criteria on word length.\n",
    "\n",
    "To train our model it is convenient to have words/strings of equal length. We will choose to convert every word to length of WORD_SIZE, by adding underscores to the end of the word if it is initially shorter than WORD_SIZE. For example, we will convert the word \"university\" (word length 10) into \"university___\" (wordlength 13). In your code include this conversion as well.\n",
    "\n",
    "Store the processed WORD_SIZE lengthed strings in a list called vocab."
   ]
  },
  {
   "cell_type": "code",
   "execution_count": 19,
   "id": "3219551c-a298-424a-a491-2d7f65a4ad6f",
   "metadata": {
    "colab": {
     "base_uri": "https://localhost:8080/"
    },
    "id": "3219551c-a298-424a-a491-2d7f65a4ad6f",
    "outputId": "d3538683-678f-4a38-f722-b2ea6fd175e5"
   },
   "outputs": [
    {
     "name": "stdout",
     "output_type": "stream",
     "text": [
      "['aaron________', 'abandoned____', 'aberdeen_____', 'abilities____', 'ability______', 'able_________', 'aboriginal___', 'abortion_____', 'about________', 'above________']\n"
     ]
    }
   ],
   "source": [
    "#TODO\n",
    "\n",
    "with open('wordlist.txt', 'r') as file:\n",
    "    words = file.read().splitlines()\n",
    "\n",
    "vocab = []\n",
    "for word in words:\n",
    "    if 3 < len(word) <= WORD_SIZE:\n",
    "        word = word.ljust(WORD_SIZE, '_')\n",
    "        vocab.append(word.lower())\n",
    "\n",
    "print(vocab[:10])"
   ]
  },
  {
   "cell_type": "markdown",
   "id": "69d3a6fe-c0a7-4808-aa1a-4c3ad6db6de3",
   "metadata": {
    "deletable": false,
    "editable": false,
    "id": "69d3a6fe-c0a7-4808-aa1a-4c3ad6db6de3"
   },
   "source": [
    "<font color='blue'>In the above explanation it was mentioned \"for practical reasons of training the model we will only use words that are longer that $3$ letters and that have a certain maximum length\". In your opinion what could be those practical? Will hit help to build a better model?</font>"
   ]
  },
  {
   "cell_type": "markdown",
   "id": "aaf86cdd-96b2-40eb-8230-c3f04e93cfc4",
   "metadata": {
    "id": "aaf86cdd-96b2-40eb-8230-c3f04e93cfc4"
   },
   "source": [
    "**Answer** \n",
    "\n",
    "### <span style=\"color: darkblue;\">Practical Reasons for Limiting Word Length</span>\n",
    "\n",
    "1. <span style=\"color: darkblue;\">**Focus on Informative Words**</span>: Very short words (like \"an\" or \"is\") don't provide much useful information for training, and they're not as valuable for autocomplete suggestions. By filtering out words shorter than 3 letters, the model can focus on longer, more complex words that offer better learning opportunities and more meaningful predictions.\n",
    "\n",
    "2. <span style=\"color: darkblue;\">**Consistent Input Length**</span>: By setting a maximum word length and padding shorter words, we ensure that all input sequences are the same length. This consistency makes it easier for the RNN to process the data without dealing with variable-length inputs, improving its efficiency and simplifying the training process.\n",
    "\n",
    "3. <span style=\"color: darkblue;\">**Efficiency in Training and Memory Use**</span>: Limiting the word length helps reduce memory consumption and computational overhead. The model will train faster because it doesn't need to process unnecessarily long sequences, and it avoids the complications that come with managing very long inputs, like potential issues with retaining information.\n",
    "\n",
    "4. <span style=\"color: darkblue;\">**Better Autocompletion Suggestions**</span>: Autocomplete features are most useful for longer words, where users may need help completing a partially typed input (e.g., \"univ\" to \"university\"). Short words are often easy to type out, so focusing on longer words ensures that the model is providing meaningful and practical suggestions that improve user experience.\n"
   ]
  },
  {
   "cell_type": "markdown",
   "id": "552b2e6d-f771-4782-8b21-73c121565faa",
   "metadata": {
    "deletable": false,
    "editable": false,
    "id": "552b2e6d-f771-4782-8b21-73c121565faa"
   },
   "source": [
    "**Q2** To input words into the model, we will need to convert each letter/character into a number. as we have seen above, the only characters in our list vocab will be the underscore and lowercase english letters. so we will convert these $27$ characters into numbers as follows: underscore -> $0$, 'a' -> $1$, 'b' -> $2$, $\\cdots$, 'z' -> $26$. In the following cell,\n",
    "\n",
    "(i) Implement a method called char_to_num, that takes in a valid character and outputs its numerical assignment.\n",
    "\n",
    "(ii) Implement a method called num_to_char, that takes in a valid number from $0$ to $26$ and outputs the corresponding character.\n",
    "\n",
    "(iii) Implement a method called word_to_numlist, that takes in a word from our vocabulary and outputs a (torch) tensor of numbers that corresponds to each character in the word in that order. For example: the word \"united_______\" will be converted to tensor([21, 14,  9, 20,  5,  4,  0,  0,  0,  0,  0,  0,  0]). You are encouraged to use your char_to_num method for this.\n",
    "\n",
    "(iv) Implement a method called numlist_to_word, that does the opposite of the above described word_to_numlist, given a tensor of numbers from $0$ to $26$, outputs the corresponding word. You are encouraged to use your  num_to_char method for this.\n",
    "\n",
    "Note: As mentioned since we are using the torch library we will be using tensors instead of the usual python lists or numpy arrays. Tensors are the list equivalent in torch. Torch models only accept tensors as input and they output tensors."
   ]
  },
  {
   "cell_type": "code",
   "execution_count": 20,
   "id": "054a4ab4-5883-4948-adc5-eb8916b6234d",
   "metadata": {
    "colab": {
     "base_uri": "https://localhost:8080/"
    },
    "id": "054a4ab4-5883-4948-adc5-eb8916b6234d",
    "outputId": "a9c80c81-989b-4bb4-ee42-b320e9ca594e"
   },
   "outputs": [],
   "source": [
    "def char_to_num(char):\n",
    "    if char == '_':\n",
    "        return 0\n",
    "    else:\n",
    "        return ord(char) - ord('a') + 1\n",
    "     \n",
    "def num_to_char(num):\n",
    "    if num == 0:\n",
    "        return '_'\n",
    "    else:\n",
    "        return chr(num + ord('a') - 1)\n",
    "\n",
    "def word_to_numlist(word):\n",
    "    nums = [char_to_num(char) for char in word]\n",
    "    return(torch.tensor(nums, dtype=torch.int))\n",
    "\n",
    "\n",
    "def numlist_to_word(numlist):\n",
    "    word = ''.join(num_to_char(num.item()) for num in numlist)\n",
    "    return(word)\n"
   ]
  },
  {
   "cell_type": "markdown",
   "id": "028d1936-fadb-4ddb-9027-3a75960aa6b1",
   "metadata": {
    "deletable": false,
    "editable": false,
    "id": "028d1936-fadb-4ddb-9027-3a75960aa6b1"
   },
   "source": [
    "<font color='blue'>We convert letter into just numbers based on their aphabetical order, I claim that it is a very bad way to encode data such as letters to be fed into learning models, please write your explanation to or against my claim. If you are searching for reasons, the keyword 'categorical data' may be useful. Although the letters in our case are not treated as categorical data, the same reasons as for categorical data is applicable. Even if my claim is valid, at the end it won't matter due to something called \"embedding layers\" that we will use in our model. What is an embedding layer? What is it's purpose? Explain.</font>"
   ]
  },
  {
   "cell_type": "markdown",
   "id": "65de3f69-cd06-4adc-8150-2522802f345a",
   "metadata": {
    "id": "65de3f69-cd06-4adc-8150-2522802f345a"
   },
   "source": [
    "**Answer** \n",
    "\n",
    "<span style=\"color:darkblue;\">\n",
    "Your claim is valid. \n",
    "    \n",
    "**Explanation:**\n",
    "\n",
    "1. **Bad Encoding for Learning Models**: Assigning numbers based on the alphabetical order (i.e., 'a' = 1, 'b' = 2, etc.) assumes that there is some inherent numerical relationship between the letters, which is not true. For example, this approach implies that the difference between 'a' and 'b' (1 and 2) is the same as the difference between 'y' and 'z' (25 and 26), which is misleading. Letters should be treated as distinct categories rather than ordered values.\n",
    "\n",
    "2. **Categorical Data Consideration**: Letters are more akin to categorical data, where the order doesn't convey any meaningful information. When dealing with categorical data, it's generally a poor practice to assign numeric values directly, as the model might assume a false relationship between categories. The better approach is to use methods like one-hot encoding or embeddings, where categories are represented in a way that doesn't imply any rank or relationship.\n",
    "\n",
    "**An embedding layer** maps each input  into a dense vector of real numbers, where the dimensions of the vector capture different attributes or characteristics of the input. These embeddings are learned during training, allowing the model to develop meaningful representations of letters, rather than relying on their numeric order.\n",
    "\n",
    "**Purpose of Embedding Layers**: The purpose of an embedding layer is to capture semantic relationships between different inputs. It transforms high-dimensional categorical data into low-dimensional continuous vectors, where similar inputs will have similar representations. This helps the model learn patterns in the data more effectively. In our case, even though we encode letters using numbers, the embedding layer will learn to ignore the numerical order and instead learn meaningful relationships based on the context of the letters in the words.\n",
    "</span>"
   ]
  },
  {
   "cell_type": "markdown",
   "id": "92070a74-0f42-435d-a3ba-b38f0d1aaf3c",
   "metadata": {
    "deletable": false,
    "editable": false,
    "id": "92070a74-0f42-435d-a3ba-b38f0d1aaf3c"
   },
   "source": [
    "## Section 2: Implementing the Autocomplete model"
   ]
  },
  {
   "cell_type": "markdown",
   "id": "6cbb965e-afcd-41ae-86f0-2f3d4682e18b",
   "metadata": {
    "deletable": false,
    "editable": false,
    "id": "6cbb965e-afcd-41ae-86f0-2f3d4682e18b"
   },
   "source": [
    "We will implement a RNN model based on LSTM. The [video tutorial](https://www.youtube.com/watch?v=tL5puCeDr-o) will be useful. Our model will be only one hidden layer, but feel free to sophisticate with more layers after the project for your own experiments.\n",
    "\n",
    "Our model will contain all the training and prediction methods as single package in a class (autocompleteModel) we will define and implement below."
   ]
  },
  {
   "cell_type": "code",
   "execution_count": 21,
   "id": "0dfe311c-669d-4d58-a833-ae3970b6d271",
   "metadata": {
    "colab": {
     "base_uri": "https://localhost:8080/"
    },
    "id": "0dfe311c-669d-4d58-a833-ae3970b6d271",
    "outputId": "b5bb9fdb-81c5-4693-da30-92f42c0847c2"
   },
   "outputs": [],
   "source": [
    "LEARNING_RATE = 0.005"
   ]
  },
  {
   "cell_type": "code",
   "execution_count": 28,
   "id": "4976fc91-2c4e-497a-954e-9014dd31be5e",
   "metadata": {
    "id": "4976fc91-2c4e-497a-954e-9014dd31be5e"
   },
   "outputs": [],
   "source": [
    "class autocompleteModel(nn.Module):\n",
    "\n",
    "    def __init__(self, alphabet_size, embed_dim, hidden_size, num_layers):\n",
    "        super().__init__()\n",
    "\n",
    "        self.alphabet_size = alphabet_size\n",
    "        self.embed_dim = embed_dim\n",
    "        self.hidden_size = hidden_size\n",
    "        self.num_layers = num_layers\n",
    "\n",
    "        self.embedding = nn.Embedding(alphabet_size, embed_dim)\n",
    "        self.lstm = nn.LSTM(embed_dim, hidden_size, num_layers, batch_first=True)\n",
    "        self.fc = nn.Linear(hidden_size, alphabet_size)\n",
    "\n",
    "\n",
    "    def forward(self, character, hidden_state, cell_state):\n",
    "\n",
    "        embedded = self.embedding(character)\n",
    "        lstm_out, (hidden_state, cell_state) = self.lstm(embedded.unsqueeze(0), (hidden_state, cell_state))\n",
    "        output = self.fc(lstm_out)\n",
    "        return output, hidden_state, cell_state\n",
    "\n",
    "\n",
    "    def initial_state(self):\n",
    "\n",
    "        h0 = torch.zeros(self.num_layers, 1, self.hidden_size)\n",
    "        c0 = torch.zeros(self.num_layers, 1, self.hidden_size)\n",
    "        return (h0, c0)\n",
    "\n",
    "    def trainModel(self, vocab, epochs = 5, batch_size = 100):\n",
    "\n",
    "        self.train()\n",
    "        optimizer = optim.Adam(self.parameters(), lr = LEARNING_RATE)\n",
    "        loss_log = []\n",
    "        criterion = nn.CrossEntropyLoss()\n",
    "\n",
    "        for e in range(epochs):\n",
    "            random.shuffle(vocab)\n",
    "            total_loss = 0\n",
    "            num_iter = len(vocab) // batch_size\n",
    "            for i in range(num_iter):\n",
    "                batch_loss = 0\n",
    "                optimizer.zero_grad()\n",
    "\n",
    "                vocab_batch = vocab[i * batch_size:(i+1) * batch_size]\n",
    "\n",
    "                for word in vocab_batch:\n",
    "                    hidden_state, cell_state = self.initial_state()\n",
    "                    inputs = torch.tensor([char_to_num(char) for char in word[:-1]])\n",
    "                    targets = torch.tensor([char_to_num(char) for char in word[1:]])\n",
    "                    \n",
    "                    for c in range(WORD_SIZE - 1):\n",
    "                        output, hidden_state, cell_state = self.forward(inputs[c].unsqueeze(0), hidden_state=hidden_state, cell_state=cell_state)\n",
    "                        loss = criterion(output.squeeze(0), targets[c].unsqueeze(0))\n",
    "                        batch_loss += loss\n",
    "\n",
    "                batch_loss /= batch_size\n",
    "                batch_loss.backward()\n",
    "                optimizer.step()\n",
    "                total_loss += batch_loss.item()\n",
    "                loss_log.append(batch_loss.item())\n",
    "\n",
    "            print(f\"Epoch: {e+1}, loss: {total_loss/num_iter}\")\n",
    "\n",
    "        plt.figure(figsize=(10, 5))\n",
    "        plt.plot(loss_log, label='Training Loss')\n",
    "        plt.title('Loss Over Epochs')\n",
    "        plt.xlabel('Epochs')\n",
    "        plt.ylabel('Loss')\n",
    "        plt.legend()\n",
    "        plt.grid(True)\n",
    "        plt.show()\n",
    "\n",
    "    def autocomplete(self, sample):\n",
    "        \n",
    "        self.eval()\n",
    "        completed_list = []\n",
    "\n",
    "        for literal in sample:\n",
    "            hidden_state, cell_state = self.initial_state()\n",
    "            input_tensor = torch.tensor([char_to_num(char) for char in literal])\n",
    "\n",
    "            for c in input_tensor:\n",
    "                output, hidden_state, cell_state = self.forward(c.unsqueeze(0), hidden_state, cell_state)\n",
    "\n",
    "            completed_word = literal\n",
    "            \n",
    "            for _ in range(WORD_SIZE - len(literal)):\n",
    "                probs = nn.functional.softmax(output.squeeze(0), dim=1)\n",
    "                next_char = torch.multinomial(probs, 1).item()\n",
    "                completed_word += num_to_char(next_char)\n",
    "                output, hidden_state, cell_state = self.forward(torch.tensor([next_char]), hidden_state, cell_state)\n",
    "            completed_list.append(completed_word)\n",
    "\n",
    "        return completed_list"
   ]
  },
  {
   "cell_type": "markdown",
   "id": "1f9b5489-b770-4519-b20c-4f2beebfb8f9",
   "metadata": {
    "deletable": false,
    "editable": false,
    "id": "1f9b5489-b770-4519-b20c-4f2beebfb8f9"
   },
   "source": [
    "## Section 3: Using and evaluating the model\n",
    "\n",
    "(i) Feel free to initialize a autocompleteModel using different embedding dimensions and hidden layer sizes. Use different learning rates, epochs, batch sizes. Train the best model you can. Show the loss curves in you answers.\n",
    "\n",
    "(ii) Evaluate it on different samples of partially filled in words. Eg: [\"univ\", \"math\", \"neur\", \"engin\"] etc. Please show outputs for different samples.\n",
    "\n",
    "<font color='blue'>Comment on the results. Is it successful? Do you see familiar substrings in the generated tesxt such as \"tion\", \"ing\", \"able\" etc. What are your suggestions to improve the model?</font>"
   ]
  },
  {
   "cell_type": "markdown",
   "id": "76c9ee6e-b6bd-4e6e-95fe-2c34b788d433",
   "metadata": {
    "id": "76c9ee6e-b6bd-4e6e-95fe-2c34b788d433"
   },
   "source": [
    "**Answer** \n",
    "\n",
    "**Hidden size 128**\n",
    "\n",
    "**For learning rate 0.005**\n",
    "\n",
    "<span style=\"color:darkblue;\">I tried epochs 5, 10, 20, 30 for training. Epoch 5, 10 did not give understandable results. As an example univ___std___. But epoch 20 gave little better results. ['univiontam', 'mathephexp', 'neureedus_', 'engines___']. Some parts okay but most of the parts are not accurate.Epoch 30 ['univistect', 'mather____', 'neuric____', 'enginuaven'] still not accurate </span>\n",
    "\n",
    "**For learning rate 0.01**\n",
    "\n",
    "<span style=\"color:darkblue;\">I tried it for 30 epochs. output is still not giving better results</span>\n",
    "\n",
    "Now i changed the **Hidden size to 256**\n",
    "\n",
    "results for 5 epochs\n",
    "\n",
    "['universe_____', 'mathing______', 'neurs________', 'enginator____']\n",
    "\n",
    "\n",
    "results for 10 epochs\n",
    "\n",
    "['universite___', 'mathoritories', 'neurals______', 'engineer_____']"
   ]
  },
  {
   "cell_type": "markdown",
   "id": "1d86aecb",
   "metadata": {},
   "source": [
    "**For 10 epochs**"
   ]
  },
  {
   "cell_type": "code",
   "execution_count": 23,
   "id": "f6e16d6b-6460-4fce-8757-aac766683e53",
   "metadata": {
    "colab": {
     "base_uri": "https://localhost:8080/",
     "height": 591
    },
    "id": "f6e16d6b-6460-4fce-8757-aac766683e53",
    "outputId": "92940a62-2e37-4dd9-f2be-0f7acb7597fd"
   },
   "outputs": [
    {
     "name": "stdout",
     "output_type": "stream",
     "text": [
      "Epoch: 1, loss: 16.45730074969205\n",
      "Epoch: 2, loss: 13.549116741527211\n",
      "Epoch: 3, loss: 12.57441567290913\n",
      "Epoch: 4, loss: 11.776154908266934\n",
      "Epoch: 5, loss: 11.153007691556757\n",
      "Epoch: 6, loss: 10.5956172617999\n",
      "Epoch: 7, loss: 10.139670382846486\n",
      "Epoch: 8, loss: 9.751731417395852\n",
      "Epoch: 9, loss: 9.392139261419123\n",
      "Epoch: 10, loss: 9.091398239135742\n"
     ]
    },
    {
     "data": {
      "image/png": "[encoded data removed]",
      "text/plain": [
       "<Figure size 720x360 with 1 Axes>"
      ]
     },
     "metadata": {
      "needs_background": "light"
     },
     "output_type": "display_data"
    }
   ],
   "source": [
    "ALPHABET_SIZE = 27  \n",
    "EMBED_DIM = 128\n",
    "HIDDEN_SIZE = 256 \n",
    "NUM_LAYERS = 1    \n",
    "model = autocompleteModel(ALPHABET_SIZE, EMBED_DIM, HIDDEN_SIZE, NUM_LAYERS)\n",
    "model.trainModel(vocab, epochs=10, batch_size=100)"
   ]
  },
  {
   "cell_type": "code",
   "execution_count": 27,
   "id": "48535105",
   "metadata": {},
   "outputs": [
    {
     "name": "stdout",
     "output_type": "stream",
     "text": [
      "['universite___', 'mathoritories', 'neurals______', 'engineer_____']\n"
     ]
    }
   ],
   "source": [
    "print(model.autocomplete([\"univ\", \"math\", \"neur\", \"engin\"]))"
   ]
  },
  {
   "cell_type": "markdown",
   "id": "d9d734b1",
   "metadata": {},
   "source": [
    "**For 20 epochs**"
   ]
  },
  {
   "cell_type": "code",
   "execution_count": 29,
   "id": "bc5eae3a",
   "metadata": {},
   "outputs": [
    {
     "name": "stdout",
     "output_type": "stream",
     "text": [
      "Epoch: 1, loss: 16.194067987528715\n",
      "Epoch: 2, loss: 13.439147168939764\n",
      "Epoch: 3, loss: 12.467358166521246\n",
      "Epoch: 4, loss: 11.7306461984461\n",
      "Epoch: 5, loss: 11.09477920965715\n",
      "Epoch: 6, loss: 10.569205685095353\n",
      "Epoch: 7, loss: 10.103240598331798\n",
      "Epoch: 8, loss: 9.728375673294067\n",
      "Epoch: 9, loss: 9.363703738559376\n",
      "Epoch: 10, loss: 9.119235385547984\n",
      "Epoch: 11, loss: 8.844381885095077\n",
      "Epoch: 12, loss: 8.65215734460137\n",
      "Epoch: 13, loss: 8.435239873149179\n",
      "Epoch: 14, loss: 8.300708050077612\n",
      "Epoch: 15, loss: 8.167393922805786\n",
      "Epoch: 16, loss: 8.056374376470393\n",
      "Epoch: 17, loss: 7.959193500605497\n",
      "Epoch: 18, loss: 7.868967847390608\n",
      "Epoch: 19, loss: 7.789412319660187\n",
      "Epoch: 20, loss: 7.747157828374342\n"
     ]
    },
    {
     "data": {
      "image/png": "[encoded data removed]",
      "text/plain": [
       "<Figure size 720x360 with 1 Axes>"
      ]
     },
     "metadata": {
      "needs_background": "light"
     },
     "output_type": "display_data"
    }
   ],
   "source": [
    "ALPHABET_SIZE = 27  \n",
    "EMBED_DIM = 128\n",
    "HIDDEN_SIZE = 256 \n",
    "NUM_LAYERS = 1    \n",
    "model = autocompleteModel(ALPHABET_SIZE, EMBED_DIM, HIDDEN_SIZE, NUM_LAYERS)\n",
    "model.trainModel(vocab, epochs=20, batch_size=100)"
   ]
  },
  {
   "cell_type": "code",
   "execution_count": 33,
   "id": "e379ac67",
   "metadata": {
    "colab": {
     "base_uri": "https://localhost:8080/"
    },
    "id": "e379ac67",
    "outputId": "7f7daae0-c8c2-42c0-ecfd-5c33b264136d"
   },
   "outputs": [
    {
     "name": "stdout",
     "output_type": "stream",
     "text": [
      "['universal____', 'mathematices_', 'neural_______', 'engine_______']\n"
     ]
    }
   ],
   "source": [
    "print(model.autocomplete([\"univ\", \"math\", \"neur\", \"engin\"]))"
   ]
  },
  {
   "cell_type": "markdown",
   "id": "7d4cd0ff",
   "metadata": {
    "id": "4697eb46"
   },
   "source": [
    "**got accurate results finally**\n",
    "\n",
    "<span style=\"color:darkblue;\">\n",
    "\n",
    "### Suggestions to Improve the Model:\n",
    "\n",
    "**1. Increase Model Capacity:**\n",
    "\n",
    "- **Hidden Size & Layers**: Increasing the hidden size or number of layers in the LSTM will allow the model to capture more complex dependencies and patterns in the input sequences.\n",
    "- **Embedding Size**: A larger embedding size can help the model capture more detailed semantic information about each character, potentially improving the generation of meaningful substrings.\n",
    "\n",
    "**2. Longer Training Time:**\n",
    "\n",
    "- **More Epochs**: If the model hasn't seen enough data or trained for long enough, increasing the number of epochs or training iterations might lead to better performance.\n",
    "\n",
    "\n",
    "**3. Increase Dataset Size:**\n",
    "\n",
    "- **More Data**: Increasing the size of the dataset (vocabulary) can expose the model to more character sequences and patterns, improving its ability to generalize.\n",
    "\n",
    "\n",
    "**4. Regularization Techniques:**\n",
    "    \n",
    "- **Weight Decay**: Add weight decay in the Adam optimizer to further regularize and prevent overfitting.\n",
    "\n",
    "</span>\n"
   ]
  }
 ],
 "metadata": {
  "colab": {
   "provenance": []
  },
  "kernelspec": {
   "display_name": "Python 3",
   "language": "python",
   "name": "python3"
  },
  "language_info": {
   "codemirror_mode": {
    "name": "ipython",
    "version": 3
   },
   "file_extension": ".py",
   "mimetype": "text/x-python",
   "name": "python",
   "nbconvert_exporter": "python",
   "pygments_lexer": "ipython3",
   "version": "3.8.7"
  }
 },
 "nbformat": 4,
 "nbformat_minor": 5
}
